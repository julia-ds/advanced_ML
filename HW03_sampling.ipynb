{
 "cells": [
  {
   "cell_type": "code",
   "execution_count": 1,
   "id": "47189428",
   "metadata": {},
   "outputs": [],
   "source": [
    "from collections import Counter\n",
    "import numpy as np\n",
    "from typing import Dict\n",
    "from copy import copy\n",
    "from tqdm import tqdm"
   ]
  },
  {
   "cell_type": "markdown",
   "id": "a0956e7e",
   "metadata": {},
   "source": [
    "# Чтение и предобработка"
   ]
  },
  {
   "cell_type": "code",
   "execution_count": 2,
   "id": "10faa9f3",
   "metadata": {},
   "outputs": [],
   "source": [
    "ru_corpus = ''\n",
    "\n",
    "for file_name in ['AnnaKarenina.txt', 'WarAndPeace.txt']: \n",
    "    with open(file_name, 'r') as f:\n",
    "        ru_corpus += f.read()\n",
    "    \n",
    "with open('WarAndPeaceEng.txt', 'r', encoding='utf-8-sig') as f:\n",
    "    en_corpus = f.read()"
   ]
  },
  {
   "cell_type": "code",
   "execution_count": 3,
   "id": "09ee5751",
   "metadata": {},
   "outputs": [
    {
     "data": {
      "text/plain": [
       "'тавшей афоризмом фразой: «Все счастливые семьи похожи друг на друга, каждая несчастливая семья несчастлива по-своему». Это книга о'"
      ]
     },
     "execution_count": 3,
     "metadata": {},
     "output_type": "execute_result"
    }
   ],
   "source": [
    "ru_corpus[90:220]"
   ]
  },
  {
   "cell_type": "code",
   "execution_count": 4,
   "id": "2603c982",
   "metadata": {},
   "outputs": [],
   "source": [
    "ALPHABET = 'абвгдеёжзийклмнопрстуфхцчшщъыьэюя '"
   ]
  },
  {
   "cell_type": "code",
   "execution_count": 5,
   "id": "3b839e8d",
   "metadata": {},
   "outputs": [],
   "source": [
    "np.random.seed(42)"
   ]
  },
  {
   "cell_type": "code",
   "execution_count": 6,
   "id": "15492171",
   "metadata": {},
   "outputs": [],
   "source": [
    "def remove_capitals_punctuations(text: str) -> str:\n",
    "    output = ''\n",
    "    for l in text.lower():\n",
    "        if l in ALPHABET:\n",
    "            output += ''.join(l)\n",
    "    return output"
   ]
  },
  {
   "cell_type": "code",
   "execution_count": 7,
   "id": "84a0142f",
   "metadata": {},
   "outputs": [],
   "source": [
    "ru_corpus = remove_capitals_punctuations(ru_corpus) "
   ]
  },
  {
   "cell_type": "code",
   "execution_count": 8,
   "id": "d60f8ffa",
   "metadata": {},
   "outputs": [
    {
     "data": {
      "text/plain": [
       "'фразой все счастливые семьи похожи друг на друга каждая несчастливая семья несчастлива посвоему это книга о вечных ценностях о люб'"
      ]
     },
     "execution_count": 8,
     "metadata": {},
     "output_type": "execute_result"
    }
   ],
   "source": [
    "# просто убедиться, что пунктуация и заглавные буквы обработаны\n",
    "ru_corpus[90:220]"
   ]
  },
  {
   "cell_type": "markdown",
   "id": "df77d854",
   "metadata": {},
   "source": [
    "# Часть 1 - Базовый частотный метод"
   ]
  },
  {
   "cell_type": "code",
   "execution_count": 9,
   "id": "f2bdedcd",
   "metadata": {},
   "outputs": [],
   "source": [
    "def get_unigrams(preprocessed_text: str) -> Dict:\n",
    "    corpus_counts = Counter(preprocessed_text)\n",
    "    freqs = {}\n",
    "    for k, v in corpus_counts.items():\n",
    "            freqs[k] = v / sum(corpus_counts.values())\n",
    "    return dict(sorted(freqs.items(), key=lambda x: x[1], reverse=True))"
   ]
  },
  {
   "cell_type": "code",
   "execution_count": 10,
   "id": "57867692",
   "metadata": {},
   "outputs": [],
   "source": [
    "def encode_text(corpus_freq_counter: Dict, text: str) -> str:\n",
    "    initial_mapping = list(corpus_freq_counter.keys())\n",
    "    mixed_mapping = np.random.permutation(initial_mapping)\n",
    "    encoder = dict(zip(initial_mapping, mixed_mapping))\n",
    "    return \"\".join([encoder[ngram] for ngram in text])\n",
    "\n",
    "\n",
    "def decode_text(corpus_freq_counter: Dict, encoded_text: str) -> str:\n",
    "    encoded_text_count = Counter(encoded_text)\n",
    "    encoded_text_freqs = {}\n",
    "    for k, v in encoded_text_count.items():\n",
    "        encoded_text_freqs[k] = v / sum(encoded_text_count.values())\n",
    "    encoded_text_freqs = dict(sorted(encoded_text_freqs.items(), key=lambda x: x[1], reverse=True))\n",
    "    decoder = dict(zip(encoded_text_freqs.keys(), corpus_freq_counter.keys()))\n",
    "    return \"\".join([decoder[ngram] for ngram in encoded_text])"
   ]
  },
  {
   "cell_type": "code",
   "execution_count": 11,
   "id": "b066b91b",
   "metadata": {},
   "outputs": [],
   "source": [
    "corpus_unigram_freqs = get_unigrams(ru_corpus)"
   ]
  },
  {
   "cell_type": "code",
   "execution_count": 12,
   "id": "b4e4e298",
   "metadata": {},
   "outputs": [],
   "source": [
    "example = ru_corpus[10400: 10900]"
   ]
  },
  {
   "cell_type": "code",
   "execution_count": 13,
   "id": "1043e32c",
   "metadata": {},
   "outputs": [],
   "source": [
    "encoded_example = encode_text(corpus_unigram_freqs, example)"
   ]
  },
  {
   "cell_type": "code",
   "execution_count": 14,
   "id": "806e15a1",
   "metadata": {},
   "outputs": [],
   "source": [
    "decoded_example = decode_text(corpus_unigram_freqs, encoded_example)"
   ]
  },
  {
   "cell_type": "markdown",
   "id": "a447c66a",
   "metadata": {},
   "source": [
    "## Часть 1 - Результаты"
   ]
  },
  {
   "cell_type": "code",
   "execution_count": 15,
   "id": "e9b7a680",
   "metadata": {},
   "outputs": [
    {
     "data": {
      "text/plain": [
       "True"
      ]
     },
     "execution_count": 15,
     "metadata": {},
     "output_type": "execute_result"
    }
   ],
   "source": [
    "len(example) == len(encoded_example) == len(decoded_example)"
   ]
  },
  {
   "cell_type": "code",
   "execution_count": 16,
   "id": "047f26b6",
   "metadata": {},
   "outputs": [
    {
     "data": {
      "text/plain": [
       "'оторые в первые времена христианства выходили возвещать добрую весть и так горячо верили что умирали за свою верутолстой с большим вниманием относился к этим идеям его герой константин левин тоже размышляет над тем что ему сказал брат николай разговор брата о коммунизме заставил его задуматься он считал переделку экономических условий вздором но он всегда чувствовал несправедливость своего избытка в сравнении с бедностью народа и впоследствии уже накануне  года беседуя с рабочими прохоровской ма'"
      ]
     },
     "execution_count": 16,
     "metadata": {},
     "output_type": "execute_result"
    }
   ],
   "source": [
    "example"
   ]
  },
  {
   "cell_type": "code",
   "execution_count": 17,
   "id": "c3c13af2",
   "metadata": {},
   "outputs": [
    {
     "data": {
      "text/plain": [
       "'ызы щюпвпмю вщюпв юьюлхпш йдзйхлдзвхпвщшыяйъйпвыцвюсхзопяыа итпвюдзопйпзхнпеы кжыпвю йъйпжзыпиьй хъйпцхпдвытпвю изыъдзычпдпаыъогйьпвлйьхлйюьпызлыдйъдкпнпбзйьпйяюкьпюеыпею ычпнылдзхлзйлпъювйлпзыфюп хцьщгъкюзплхяпзюьпжзыпюьипднхцхъпа хзплйныъхчп хцеывы па хзхпыпныььилйцьюпцхдзхвйъпюеыпцхяиьхзодкпылпджйзхъпмю юяюънипбнылыьйжюднйшпидъывйчпвцяы ыьплыпылпвдюеяхпживдзвывхъплюдм хвюяъйвыдзопдвыюеыпйцащзнхпвпд хвлюлййпдпаюялыдзотплх ыяхпйпвмыдъюядзвййпифюплхнхлилюппеыяхпаюдюяикпдп хаыжйьйпм ышы ывднычпьх'"
      ]
     },
     "execution_count": 17,
     "metadata": {},
     "output_type": "execute_result"
    }
   ],
   "source": [
    "encoded_example"
   ]
  },
  {
   "cell_type": "code",
   "execution_count": 18,
   "id": "9bf72576",
   "metadata": {},
   "outputs": [
    {
     "data": {
      "text/plain": [
       "'осовзе и чевизе иверела йвнтсналтсиа изйоднкн иопиецасы доявмш иетсы н сау ьовбго иевнкн гсо мрнвакн па тиош иевмсоктсож т яокыхнр илнралнер ослотнктб у юснр ндебр еьо ьевож уолтсалснл кеинл соэе вапрзхкбес лад сер гсо ерм туапак явас лнуокаж вапьоиов яваса о уоррмлнпре патсаинк еьо падмрасытб ол тгнсак чеведекум юуолорнгетунй мткоинж ипдовор ло ол итеьда гмитсиоиак летчваиедкниотсы тиоеьо нпязсуа и тваилелнн т яедлотсыш лавода н ичоткедтсинн мэе лауалмле  ьода яетедмб т ваяогнрн чвойовоитуож ра'"
      ]
     },
     "execution_count": 18,
     "metadata": {},
     "output_type": "execute_result"
    }
   ],
   "source": [
    "decoded_example"
   ]
  },
  {
   "cell_type": "markdown",
   "id": "fe6fa083",
   "metadata": {},
   "source": [
    "Получилась полная ерунда, но другого и не ожидалось =)"
   ]
  },
  {
   "cell_type": "markdown",
   "id": "871393f7",
   "metadata": {},
   "source": [
    "# Часть 2 - Биграммы"
   ]
  },
  {
   "cell_type": "code",
   "execution_count": 19,
   "id": "591901da",
   "metadata": {},
   "outputs": [],
   "source": [
    "def get_ngrams(text: str, ngram_len: int) -> Dict:\n",
    "    ngrams = [text[i: i + ngram_len] for i in range(len(text) - ngram_len + 1)]\n",
    "    ngrams_count = Counter(ngrams)\n",
    "    ngrams_count_dict = {k[0] + k[1]: v for k, v in ngrams_count.items()}\n",
    "    freqs = {}\n",
    "    for k, v in ngrams_count_dict.items():\n",
    "        freqs[k] = v / sum(ngrams_count_dict.values())\n",
    "    return dict(sorted(freqs.items(), key=lambda x: x[1], reverse=True))"
   ]
  },
  {
   "cell_type": "code",
   "execution_count": 20,
   "id": "16a5ab07",
   "metadata": {},
   "outputs": [],
   "source": [
    "def decode_text(ru_corpus: str, encoded_text: str) -> str:\n",
    "    corpus_freq_counter = get_ngrams(ru_corpus, 2) \n",
    "    encoded_text_freqs = get_ngrams(encoded_text, 2)\n",
    "    decoder = dict(zip(encoded_text_freqs.keys(), corpus_freq_counter.keys()))\n",
    "    decoded_text = \"\"\n",
    "    i = 0\n",
    "    while i <= len(encoded_text) - 2:\n",
    "        decoded_text += decoder[encoded_text[i: i+2]]\n",
    "        i += 2\n",
    "    return decoded_text"
   ]
  },
  {
   "cell_type": "code",
   "execution_count": 21,
   "id": "132b2233",
   "metadata": {},
   "outputs": [],
   "source": [
    "decoded_example = decode_text(ru_corpus, encoded_example)"
   ]
  },
  {
   "cell_type": "markdown",
   "id": "91701846",
   "metadata": {},
   "source": [
    "## Часть 2 - Результаты"
   ]
  },
  {
   "cell_type": "code",
   "execution_count": 22,
   "id": "31f6ffbf",
   "metadata": {},
   "outputs": [
    {
     "data": {
      "text/plain": [
       "True"
      ]
     },
     "execution_count": 22,
     "metadata": {},
     "output_type": "execute_result"
    }
   ],
   "source": [
    "len(example) == len(encoded_example) == len(decoded_example)"
   ]
  },
  {
   "cell_type": "code",
   "execution_count": 23,
   "id": "36f515f5",
   "metadata": {},
   "outputs": [
    {
     "data": {
      "text/plain": [
       "'оторые в первые времена христианства выходили возвещать добрую весть и так горячо верили что умирали за свою верутолстой с большим вниманием относился к этим идеям его герой константин левин тоже размышляет над тем что ему сказал брат николай разговор брата о коммунизме заставил его задуматься он считал переделку экономических условий вздором но он всегда чувствовал несправедливость своего избытка в сравнении с бедностью народа и впоследствии уже накануне  года беседуя с рабочими прохоровской ма'"
      ]
     },
     "execution_count": 23,
     "metadata": {},
     "output_type": "execute_result"
    }
   ],
   "source": [
    "example"
   ]
  },
  {
   "cell_type": "code",
   "execution_count": 24,
   "id": "a4ef0ff8",
   "metadata": {},
   "outputs": [
    {
     "data": {
      "text/plain": [
       "'ызы щюпвпмю вщюпв юьюлхпш йдзйхлдзвхпвщшыяйъйпвыцвюсхзопяыа итпвюдзопйпзхнпеы кжыпвю йъйпжзыпиьй хъйпцхпдвытпвю изыъдзычпдпаыъогйьпвлйьхлйюьпызлыдйъдкпнпбзйьпйяюкьпюеыпею ычпнылдзхлзйлпъювйлпзыфюп хцьщгъкюзплхяпзюьпжзыпюьипднхцхъпа хзплйныъхчп хцеывы па хзхпыпныььилйцьюпцхдзхвйъпюеыпцхяиьхзодкпылпджйзхъпмю юяюънипбнылыьйжюднйшпидъывйчпвцяы ыьплыпылпвдюеяхпживдзвывхъплюдм хвюяъйвыдзопдвыюеыпйцащзнхпвпд хвлюлййпдпаюялыдзотплх ыяхпйпвмыдъюядзвййпифюплхнхлилюппеыяхпаюдюяикпдп хаыжйьйпм ышы ывднычпьх'"
      ]
     },
     "execution_count": 24,
     "metadata": {},
     "output_type": "execute_result"
    }
   ],
   "source": [
    "encoded_example"
   ]
  },
  {
   "cell_type": "code",
   "execution_count": 25,
   "id": "f8d422fc",
   "metadata": {},
   "outputs": [
    {
     "data": {
      "text/plain": [
       "'аксты о оль азтомуов уа тртвтьнии жео амерл е  ослвылаорсев едо раалй лиинвастие снебы  ре пзан  н  таа до жо ь диски те вгоскховоо по епоовм пе бл обанвсть ибо я иот сееконоон р кзн ложсв ллиизто нойляичспна алиовре пк ся вде д чв ланашискокогрия  оужв лаа  сонексьс  зтадн кос чот с днн еалобм прочтыеноль какр хвсонрон ятилжизамилорыо щестт на су о х чиа епетеллоеннараиматка   ои ордоуля й ебькдео  в нль у э вгокарои ьннаажера е ез бмобрел эзаченаиннисьтоваера ких ннлеом негмен олкоемкоетонно е'"
      ]
     },
     "execution_count": 25,
     "metadata": {},
     "output_type": "execute_result"
    }
   ],
   "source": [
    "decoded_example"
   ]
  },
  {
   "cell_type": "markdown",
   "id": "0903f6db",
   "metadata": {},
   "source": [
    "По-прежнему бессмысленно"
   ]
  },
  {
   "cell_type": "markdown",
   "id": "3bff17a2",
   "metadata": {},
   "source": [
    "# Часть 3 - MCMC-сэмплирование на биграммах"
   ]
  },
  {
   "cell_type": "code",
   "execution_count": 26,
   "id": "9d6d1d86",
   "metadata": {},
   "outputs": [],
   "source": [
    "alphabet = list(ALPHABET)\n",
    "unknown_ngram = 1 / len(ALPHABET) ** 2"
   ]
  },
  {
   "cell_type": "code",
   "execution_count": 27,
   "id": "9d438ed5",
   "metadata": {},
   "outputs": [],
   "source": [
    "def get_loglikelihood(text: str, corpus_freqs: Dict, ngram_len: int) -> float:\n",
    "    ngram_counts = Counter([''.join(text[i: i + ngram_len]) for i in range(len(text) - ngram_len)])\n",
    "    return np.sum([count * np.log(corpus_freqs.get(ngram, unknown_ngram))\n",
    "                    for ngram, count in ngram_counts.items()])\n",
    "\n",
    "\n",
    "def compare_loglikelihood(cur_loglh: float, new_loglh: float) -> bool:\n",
    "    if new_loglh > cur_loglh:\n",
    "        return True\n",
    "    return np.random.rand() < np.exp(new_loglh - cur_loglh)\n",
    "\n",
    "\n",
    "def decode(text: str, corpus_freqs: Dict, ngram_len: int, n_iter: int) -> str:\n",
    "    best_version = copy(text)\n",
    "    cur_loglh = best_loglh = get_loglikelihood(text, corpus_freqs, ngram_len)\n",
    "    iter_num = 0\n",
    "    for iteration in tqdm(range(n_iter)):\n",
    "        iter_num += 1\n",
    "        \n",
    "        # меняю 2 рандомно выбранные буквы алфавита местами\n",
    "        swapped = list(copy(text))\n",
    "        letters = np.random.choice(alphabet, 2, replace=False)\n",
    "        for i in range(len(swapped)):\n",
    "            if swapped[i] == letters[0]:\n",
    "                swapped[i] = letters[1]\n",
    "            elif swapped[i] == letters[1]:\n",
    "                swapped[i] = letters[0]\n",
    "        swapped = ''.join(swapped)\n",
    "        \n",
    "        new_loglh = get_loglikelihood(swapped, corpus_freqs, ngram_len)\n",
    "        if compare_loglikelihood(cur_loglh, new_loglh):\n",
    "            text = swapped\n",
    "            cur_loglh = new_loglh\n",
    "            if cur_loglh > best_loglh:\n",
    "                best_loglh = cur_loglh\n",
    "                best_version = copy(text)\n",
    "        \n",
    "        if iter_num == 10 or iter_num % vebrocity == 0: # вывожу самое начало процесса и некоторые стадии\n",
    "            print(f'Номер итерации: {iter_num}')\n",
    "            print(''.join(best_version))\n",
    "\n",
    "    return ''.join(best_version)"
   ]
  },
  {
   "cell_type": "code",
   "execution_count": 28,
   "id": "599d372e",
   "metadata": {},
   "outputs": [],
   "source": [
    "bigram_freqs = get_ngrams(ru_corpus, 2)"
   ]
  },
  {
   "cell_type": "markdown",
   "id": "51581ead",
   "metadata": {},
   "source": [
    "## Часть 3 - Результаты"
   ]
  },
  {
   "cell_type": "code",
   "execution_count": 29,
   "id": "93465972",
   "metadata": {},
   "outputs": [
    {
     "name": "stderr",
     "output_type": "stream",
     "text": [
      "  5%|█▋                                   | 677/15000 [00:00<00:06, 2228.23it/s]"
     ]
    },
    {
     "name": "stdout",
     "output_type": "stream",
     "text": [
      "Номер итерации: 10\n",
      "ызы щюпапмю ащюпа юьюлхпш йдзйхлдзахпащшыбйъйпаыцаюсхзопбыв итпаюдзопйпзхнпяы кжыпаю йъйпжзыпиьй хъйпцхпдаытпаю изыъдзычпдпвыъогйьпалйьхлйюьпызлыдйъдкпнпезйьпйбюкьпюяыпяю ычпнылдзхлзйлпъюайлпзыфюп хцьщгъкюзплхбпзюьпжзыпюьипднхцхъпв хзплйныъхчп хцяыаы пв хзхпыпныььилйцьюпцхдзхайъпюяыпцхбиьхзодкпылпджйзхъпмю юбюънипенылыьйжюднйшпидъыайчпацбы ыьплыпылпадюябхпжиадзаыахъплюдм хаюбъйаыдзопдаыюяыпйцвщзнхпапд халюлййпдпвюблыдзотплх ыбхпйпамыдъюбдзаййпифюплхнхлилюппяыбхпвюдюбикпдп хвыжйьйпм ышы ыаднычпьх\n"
     ]
    },
    {
     "name": "stderr",
     "output_type": "stream",
     "text": [
      " 36%|█████████████                       | 5450/15000 [00:02<00:04, 2272.91it/s]"
     ]
    },
    {
     "name": "stdout",
     "output_type": "stream",
     "text": [
      "Номер итерации: 5000\n",
      "етерша в барвша вралано зристионство вшзедими вегвахоть депруы васть и ток жеряче варими чте улироми го свеы варутемстей с пемьъил внилониал етнесимся к этил идаял аже жарей кенстонтин мавин теёа роглшъмяат нод тал чте алу скогом прот никемой рогжевер прото е келлунигла гостовим аже годулоться ен считом барадамку экенеличаскиз усмевий вгдерел не ен всаждо чувствевом насбровадмивесть свеаже игпштко в сровнании с паднестьы норедо и вбесмадствии уёа ноконуна  жедо пасадуя с ропечили брезеревскей ло\n"
     ]
    },
    {
     "name": "stderr",
     "output_type": "stream",
     "text": [
      " 70%|████████████████████████▍          | 10449/15000 [00:04<00:02, 2271.65it/s]"
     ]
    },
    {
     "name": "stdout",
     "output_type": "stream",
     "text": [
      "Номер итерации: 10000\n",
      "оторёе в первёе времена христианства вёходили возвеъать добруы весть и так горячо верили что умирали за своы верутолстой с большим вниманием относился к этим идеям его герой константин левин тоже размёшляет над тем что ему сказал брат николай разговор брата о коммунизме заставил его задуматься он считал переделку экономических условий вздором но он всегда чувствовал несправедливость своего избётка в сравнении с бедностьы народа и впоследствии уже накануне  года беседуя с рабочими прохоровской ма\n"
     ]
    },
    {
     "name": "stderr",
     "output_type": "stream",
     "text": [
      "100%|███████████████████████████████████| 15000/15000 [00:06<00:00, 2265.33it/s]"
     ]
    },
    {
     "name": "stdout",
     "output_type": "stream",
     "text": [
      "Номер итерации: 15000\n",
      "оторые в первые времена христианства выходили возвешать добрую весть и так горячо верили что умирали за свою верутолстой с больъим вниманием относился к этим идеям его герой константин левин тоже размыъляет над тем что ему сказал брат николай разговор брата о коммунизме заставил его задуматься он считал переделку экономических условий вздором но он всегда чувствовал несправедливость своего избытка в сравнении с бедностью народа и впоследствии уже накануне  года беседуя с рабочими прохоровской ма\n"
     ]
    },
    {
     "name": "stderr",
     "output_type": "stream",
     "text": [
      "\n"
     ]
    }
   ],
   "source": [
    "vebrocity = 5000\n",
    "decoded = decode(encoded_example, bigram_freqs, 2, 15000)"
   ]
  },
  {
   "cell_type": "code",
   "execution_count": 34,
   "id": "132eb412",
   "metadata": {},
   "outputs": [
    {
     "data": {
      "text/plain": [
       "'оторые в первые времена христианства выходили возвещать добрую весть и так горячо верили что умирали за свою верутолстой с большим вниманием относился к этим идеям его герой константин левин тоже размышляет над тем что ему сказал брат николай разговор брата о коммунизме заставил его задуматься он считал переделку экономических условий вздором но он всегда чувствовал несправедливость своего избытка в сравнении с бедностью народа и впоследствии уже накануне  года беседуя с рабочими прохоровской ма'"
      ]
     },
     "execution_count": 34,
     "metadata": {},
     "output_type": "execute_result"
    }
   ],
   "source": [
    "# По-моему круто получилось, тут для сравнения исходный кусочек текста \n",
    "example"
   ]
  },
  {
   "cell_type": "markdown",
   "id": "0b928ba1",
   "metadata": {},
   "source": [
    "# Часть 4 - Расшифровка сообщения"
   ]
  },
  {
   "cell_type": "code",
   "execution_count": 30,
   "id": "331bc102",
   "metadata": {},
   "outputs": [],
   "source": [
    "text = '←⇠⇒↟↹↷⇊↹↷↟↤↟↨←↹↝⇛⇯↳⇴⇒⇈↝⇊↾↹↟⇒↟↹⇷⇛⇞↨↟↹↝⇛⇯↳⇴⇒⇈↝⇊↾↹↨←⇌⇠↨↹⇙↹⇸↨⇛↙⇛↹⇠⇛⇛↲⇆←↝↟↞↹⇌⇛↨⇛⇯⇊↾↹⇒←↙⇌⇛↹⇷⇯⇛⇞↟↨⇴↨⇈↹⇠⇌⇛⇯←←↹↷⇠←↙⇛↹↷⇊↹↷⇠←↹⇠↤←⇒⇴⇒↟↹⇷⇯⇴↷↟⇒⇈↝⇛↹↟↹⇷⇛⇒⇙⇞↟↨←↹↳⇴⇌⇠↟↳⇴⇒⇈↝⇊↾↹↲⇴⇒⇒↹⇰⇴↹⇷⇛⇠⇒←↤↝←←↹⇞←↨↷←⇯↨⇛←↹⇰⇴↤⇴↝↟←↹⇌⇙⇯⇠⇴↹↘⇛↨↞↹⇌⇛↝←⇞↝⇛↹↞↹↝↟⇞←↙⇛↹↝←↹⇛↲←⇆⇴⇏'\n"
   ]
  },
  {
   "cell_type": "code",
   "execution_count": 31,
   "id": "4334bbb3",
   "metadata": {},
   "outputs": [],
   "source": [
    "text_unigram_freqs = get_unigrams(text)\n",
    "decoder = dict(zip(text_unigram_freqs, corpus_unigram_freqs))\n",
    "\n",
    "preprocessed_text = ''.join([decoder[symbol] for symbol in text])"
   ]
  },
  {
   "cell_type": "code",
   "execution_count": 32,
   "id": "9bccb7b6",
   "metadata": {},
   "outputs": [
    {
     "data": {
      "text/plain": [
       "'олна рд раяасо иевьтнуидг ана пемса иевьтнуидг соклс б шсеые леезжоиач кесевдг ноыке пвемастсу лкевоо рлоые рд рло ляонтна пвтрануие а пенбмасо ьтклаьтнуидг зтнн йт пелнояиоо мосровсео йтятиао кбвлт хесч кеиомие ч иамоые ио езожтю'"
      ]
     },
     "execution_count": 32,
     "metadata": {},
     "output_type": "execute_result"
    }
   ],
   "source": [
    "preprocessed_text"
   ]
  },
  {
   "cell_type": "code",
   "execution_count": 33,
   "id": "5cae6ac1",
   "metadata": {},
   "outputs": [
    {
     "name": "stderr",
     "output_type": "stream",
     "text": [
      "  1%|▍                                    | 443/40000 [00:00<00:08, 4428.06it/s]"
     ]
    },
    {
     "name": "stdout",
     "output_type": "stream",
     "text": [
      "Номер итерации: 10\n",
      "оина рд раяасо лекэтнулдь ана пемса лекэтнулдь совис б шсеые иеезжолач весекдь ноыве пкемастсу ивекоо риоые рд рио ияонтна пктрануле а пенбмасо этвиаэтнулдь зтнн йт пеиноялоо мосроксео йтятлао вбкит гесч веломле ч ламоые ло езожтю\n"
     ]
    },
    {
     "name": "stderr",
     "output_type": "stream",
     "text": [
      " 27%|█████████▎                         | 10617/40000 [00:02<00:06, 4402.18it/s]"
     ]
    },
    {
     "name": "stdout",
     "output_type": "stream",
     "text": [
      "Номер итерации: 10000\n",
      "етни ся сичиве лорманыляь ини подви лорманыляь вектв у щвого тоошжелий коворяь негко продивавы ткорее стего ся сте тченани прасиныло и понудиве мактиманыляь шанн за потнечлее девсервое зачалие курта бовй коледло й лидего ле ошежац\n"
     ]
    },
    {
     "name": "stderr",
     "output_type": "stream",
     "text": [
      " 53%|██████████████████▋                | 21300/40000 [00:04<00:04, 4461.26it/s]"
     ]
    },
    {
     "name": "stdout",
     "output_type": "stream",
     "text": [
      "Номер итерации: 20000\n",
      "етни сь симиве лорчаныльй ини подви лорчаныльй вектв у фвого тоожшелия коворьй негко продивавы ткорее стего сь сте тменани прасиныло и понудиве чактичаныльй жанн за потнемлее девсервое замалие курта бовя коледло я лидего ле ожешаэ\n"
     ]
    },
    {
     "name": "stderr",
     "output_type": "stream",
     "text": [
      " 77%|██████████████████████████▉        | 30720/40000 [00:06<00:02, 4468.98it/s]"
     ]
    },
    {
     "name": "stdout",
     "output_type": "stream",
     "text": [
      "Номер итерации: 30000\n",
      "если вй вимите норчальнйы или подти норчальнйы текст у этого сообёения которйы легко продитать скорее всего вй все смелали правильно и полудите чаксичальнйы балл за послемнее детвертое замание курса хотя конедно я нидего не обеёаф\n"
     ]
    },
    {
     "name": "stderr",
     "output_type": "stream",
     "text": [
      "100%|███████████████████████████████████| 40000/40000 [00:09<00:00, 4434.01it/s]"
     ]
    },
    {
     "name": "stdout",
     "output_type": "stream",
     "text": [
      "Номер итерации: 40000\n",
      "если вы вимите нордальный или почти нордальный текст у этого соожшения который легко прочитать скорее всего вы все смелали правильно и получите даксидальный жалл за послемнее четвертое замание курса ботя конечно я ничего не ожешаю\n"
     ]
    },
    {
     "name": "stderr",
     "output_type": "stream",
     "text": [
      "\n"
     ]
    }
   ],
   "source": [
    "vebrocity = 10000\n",
    "decoded = decode(preprocessed_text, bigram_freqs, 2, 40000)"
   ]
  },
  {
   "cell_type": "markdown",
   "id": "4782517a",
   "metadata": {},
   "source": [
    "Текст не удалось декодировать идельно, но по-моему его можно достаточно легко понять \n",
    "\n",
    "если вы виДите норМальный или почти норМальный текст у этого сооБЩения который легко прочитать скорее всего вы все сДелали правильно и получите МаксиМальный Балл за послеДнее четвертое заДание курса Хотя конечно я ничего не оБеЩаю\n",
    "\n",
    "Часто перепутаны между собой М и Д (вимите, нордальный, смелали, даксидальный, послемнее, замание), а также встречается замена Б на Ж (жалл, ожещаю, соожщения)"
   ]
  }
 ],
 "metadata": {
  "kernelspec": {
   "display_name": "Python 3 (ipykernel)",
   "language": "python",
   "name": "python3"
  },
  "language_info": {
   "codemirror_mode": {
    "name": "ipython",
    "version": 3
   },
   "file_extension": ".py",
   "mimetype": "text/x-python",
   "name": "python",
   "nbconvert_exporter": "python",
   "pygments_lexer": "ipython3",
   "version": "3.8.12"
  }
 },
 "nbformat": 4,
 "nbformat_minor": 5
}
